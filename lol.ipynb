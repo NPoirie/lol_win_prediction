{
 "cells": [
  {
   "cell_type": "code",
   "execution_count": 1,
   "metadata": {},
   "outputs": [
    {
     "name": "stdout",
     "output_type": "stream",
     "text": [
      "{'id': 'Q_mm2vTfvYGbHdrxAAE9RhbMKVI52knTyX6vAOPuaPR8m6M', 'accountId': 'kIuwOlmDKq3m4Scsjcqvz1FRBMS8YDsAQHPrj3rjiWbHujo', 'puuid': 'FMhTzFaM-58Wvf1lsA1Vpdg0oGaw4-nb9oWIAx1GqJq7nlf8zlnwC7eU3MtqjVMoR43WEEtprDzdxQ', 'name': 'SOS Ouistiti', 'profileIconId': 4027, 'revisionDate': 1678819850441, 'summonerLevel': 348}\n"
     ]
    }
   ],
   "source": [
    "import riotwatcher as rw\n",
    "\n",
    "lol_watcher = rw.LolWatcher('RGAPI-be0069c4-1c7d-4be5-ae86-0ef71a5ffa12')\n",
    "my_region = 'euw1'\n",
    "me = lol_watcher.summoner.by_name(my_region, 'SOS Ouistiti')\n",
    "print(me)\n"
   ]
  },
  {
   "cell_type": "code",
   "execution_count": 2,
   "metadata": {},
   "outputs": [
    {
     "name": "stdout",
     "output_type": "stream",
     "text": [
      "[{'leagueId': 'c32c6132-e110-473e-9077-a604a735f4e1', 'queueType': 'RANKED_FLEX_SR', 'tier': 'GOLD', 'rank': 'III', 'summonerId': 'Q_mm2vTfvYGbHdrxAAE9RhbMKVI52knTyX6vAOPuaPR8m6M', 'summonerName': 'SOS Ouistiti', 'leaguePoints': 23, 'wins': 8, 'losses': 8, 'veteran': False, 'inactive': False, 'freshBlood': False, 'hotStreak': False}]\n"
     ]
    }
   ],
   "source": [
    "my_ranked_stats = lol_watcher.league.by_summoner(my_region, me['id'])\n",
    "print(my_ranked_stats)"
   ]
  },
  {
   "cell_type": "code",
   "execution_count": 3,
   "metadata": {},
   "outputs": [],
   "source": [
    "versions = lol_watcher.data_dragon.versions_for_region(my_region)\n",
    "champions_version = versions['n']['champion']"
   ]
  },
  {
   "cell_type": "code",
   "execution_count": 4,
   "metadata": {},
   "outputs": [
    {
     "name": "stdout",
     "output_type": "stream",
     "text": [
      "{'version': '13.5.1', 'id': 'Bard', 'key': '432', 'name': 'Bard', 'title': 'the Wandering Caretaker', 'blurb': 'A traveler from beyond the stars, Bard is an agent of serendipity who fights to maintain a balance where life can endure the indifference of chaos. Many Runeterrans sing songs that ponder his extraordinary nature, yet they all agree that the cosmic...', 'info': {'attack': 4, 'defense': 4, 'magic': 5, 'difficulty': 9}, 'image': {'full': 'Bard.png', 'sprite': 'champion0.png', 'group': 'champion', 'x': 96, 'y': 48, 'w': 48, 'h': 48}, 'tags': ['Support', 'Mage'], 'partype': 'Mana', 'stats': {'hp': 630, 'hpperlevel': 103, 'mp': 350, 'mpperlevel': 50, 'movespeed': 330, 'armor': 34, 'armorperlevel': 5.2, 'spellblock': 30, 'spellblockperlevel': 1.3, 'attackrange': 500, 'hpregen': 5.5, 'hpregenperlevel': 0.55, 'mpregen': 6, 'mpregenperlevel': 0.45, 'crit': 0, 'critperlevel': 0, 'attackdamage': 52, 'attackdamageperlevel': 3, 'attackspeedperlevel': 2, 'attackspeed': 0.625}}\n"
     ]
    }
   ],
   "source": [
    "current_champ_list = lol_watcher.data_dragon.champions(champions_version)\n",
    "print(current_champ_list['data']['Bard'])"
   ]
  }
 ],
 "metadata": {
  "kernelspec": {
   "display_name": "Python 3",
   "language": "python",
   "name": "python3"
  },
  "language_info": {
   "codemirror_mode": {
    "name": "ipython",
    "version": 3
   },
   "file_extension": ".py",
   "mimetype": "text/x-python",
   "name": "python",
   "nbconvert_exporter": "python",
   "pygments_lexer": "ipython3",
   "version": "3.10.4"
  },
  "orig_nbformat": 4
 },
 "nbformat": 4,
 "nbformat_minor": 2
}
